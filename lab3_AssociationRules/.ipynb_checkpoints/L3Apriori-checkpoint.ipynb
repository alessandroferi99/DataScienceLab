{
 "cells": [
  {
   "cell_type": "code",
   "execution_count": 1,
   "metadata": {},
   "outputs": [],
   "source": [
    "transactions = [\n",
    "    [\"a\",\"b\"],\n",
    "    [\"b\",\"c\",\"d\"],\n",
    "    [\"a\",\"c\",\"d\",\"e\"],\n",
    "    [\"a\",\"d\",\"e\"],\n",
    "    [\"a\",\"b\",\"c\"],\n",
    "    [\"a\",\"b\",\"c\",\"d\"],\n",
    "    [\"b\",\"c\"],\n",
    "    [\"a\",\"b\",\"c\"],\n",
    "    [\"a\",\"b\",\"d\"],\n",
    "    [\"b\",\"c\",\"e\"]\n",
    "]"
   ]
  },
  {
   "cell_type": "code",
   "execution_count": 2,
   "metadata": {},
   "outputs": [],
   "source": [
    "import collections "
   ]
  },
  {
   "cell_type": "code",
   "execution_count": 3,
   "metadata": {},
   "outputs": [
    {
     "data": {
      "text/plain": [
       "{'a': 7, 'b': 8, 'c': 7, 'd': 5, 'e': 3}"
      ]
     },
     "execution_count": 3,
     "metadata": {},
     "output_type": "execute_result"
    }
   ],
   "source": [
    "freq = collections.defaultdict(lambda: 0)\n",
    "minsup = 1\n",
    "for t in transactions:\n",
    "    for el in t:\n",
    "        freq[el] += 1\n",
    "\n",
    "dict(freq)"
   ]
  },
  {
   "cell_type": "code",
   "execution_count": 4,
   "metadata": {},
   "outputs": [
    {
     "data": {
      "text/plain": [
       "{('a',): 7, ('b',): 8, ('c',): 7, ('d',): 5, ('e',): 3}"
      ]
     },
     "execution_count": 4,
     "metadata": {},
     "output_type": "execute_result"
    }
   ],
   "source": [
    "L = []\n",
    "L.append({ (k,): v for k, v in freq.items() if v >= minsup })\n",
    "L[0]"
   ]
  },
  {
   "cell_type": "code",
   "execution_count": 5,
   "metadata": {},
   "outputs": [],
   "source": [
    "def generate_candidates(L):\n",
    "    C = []\n",
    "    for i in range(len(L)):\n",
    "        for j in range(i+1, len(L)):\n",
    "            # iterate over all possible pairs in L\n",
    "            if L[i][:-1] == L[j][:-1]:\n",
    "                # L[i] and L[j] have matching prefixes (they only differ by the last item),\n",
    "                # so we generate the new element by using the same prefix and appending the\n",
    "                # two suffixes\n",
    "                C.append(L[i][:-1] + tuple(sorted([L[i][-1], L[j][-1]])))\n",
    "    return C"
   ]
  },
  {
   "cell_type": "code",
   "execution_count": 6,
   "metadata": {},
   "outputs": [
    {
     "name": "stdout",
     "output_type": "stream",
     "text": [
      "[('a', 'b'), ('a', 'c'), ('a', 'd'), ('b', 'c'), ('b', 'd'), ('c', 'd')]\n",
      "[('a', 'b', 'c'), ('c', 'd', 'f'), ('c', 'e', 'f'), ('c', 'd', 'e')]\n",
      "[]\n",
      "[]\n"
     ]
    }
   ],
   "source": [
    "# expecting ab, ac, ad, bc, bd, cd\n",
    "print(generate_candidates([ ('a',), ('b',), ('c',), ('d',) ]))\n",
    "# expecting abc, cdf, cef, cde\n",
    "print(generate_candidates([ ('a','b'), ('a','c'), ('b','c'), ('c','f'), ('c','d'), ('c','e')]))\n",
    "# expecting an empty result\n",
    "print(generate_candidates([]))\n",
    "# expecting an empty result\n",
    "print(generate_candidates([('a','b'), ('b','c'), ('c','d')]))"
   ]
  },
  {
   "cell_type": "code",
   "execution_count": 7,
   "metadata": {},
   "outputs": [],
   "source": [
    "from itertools import combinations\n",
    "def prune_values(freq, candidates):\n",
    "    keep = []\n",
    "    for candidate in candidates:\n",
    "        combs = list(combinations(candidate, len(candidate)-1))\n",
    "        if all([ comb in freq for comb in combs ]):\n",
    "            keep.append(candidate)\n",
    "    return keep\n"
   ]
  },
  {
   "cell_type": "code",
   "execution_count": 12,
   "metadata": {},
   "outputs": [
    {
     "name": "stdout",
     "output_type": "stream",
     "text": [
      "[('a', 'b'), ('a', 'c'), ('a', 'd'), ('a', 'e'), ('b', 'c'), ('b', 'd'), ('b', 'e'), ('c', 'd'), ('c', 'e'), ('d', 'e')]\n",
      "[('a', 'b'), ('a', 'c'), ('a', 'd'), ('a', 'e'), ('b', 'c'), ('b', 'd'), ('b', 'e'), ('c', 'd'), ('c', 'e'), ('d', 'e')]\n"
     ]
    },
    {
     "data": {
      "text/plain": [
       "defaultdict(<function __main__.<lambda>()>,\n",
       "            {('a', 'b'): 5,\n",
       "             ('b', 'c'): 6,\n",
       "             ('b', 'd'): 3,\n",
       "             ('c', 'd'): 3,\n",
       "             ('a', 'c'): 4,\n",
       "             ('a', 'd'): 4,\n",
       "             ('a', 'e'): 2,\n",
       "             ('c', 'e'): 2,\n",
       "             ('d', 'e'): 2,\n",
       "             ('b', 'e'): 1})"
      ]
     },
     "execution_count": 12,
     "metadata": {},
     "output_type": "execute_result"
    }
   ],
   "source": [
    "C = prune_values(L[-1], generate_candidates(list(L[-1].keys()))) # generate new candidates from L_{k} (i.e. the keys of L[-1])\n",
    "freq = collections.defaultdict(lambda: 0) # keep track of itemsets counts, as we did for step 1\n",
    "for t in transactions: # count frequencies in all transactions\n",
    "    transaction_set = set(t)\n",
    "    for c in C: # for each transaction, go over all candidates\n",
    "        if set(c).issubset(transaction_set):\n",
    "            freq[c] += 1\n",
    "freq"
   ]
  },
  {
   "cell_type": "code",
   "execution_count": 13,
   "metadata": {},
   "outputs": [
    {
     "data": {
      "text/plain": [
       "[{('a',): 7, ('b',): 8, ('c',): 7, ('d',): 5, ('e',): 3},\n",
       " {('a', 'b'): 5,\n",
       "  ('b', 'c'): 6,\n",
       "  ('b', 'd'): 3,\n",
       "  ('c', 'd'): 3,\n",
       "  ('a', 'c'): 4,\n",
       "  ('a', 'd'): 4,\n",
       "  ('a', 'e'): 2,\n",
       "  ('c', 'e'): 2,\n",
       "  ('d', 'e'): 2,\n",
       "  ('b', 'e'): 1}]"
      ]
     },
     "execution_count": 13,
     "metadata": {},
     "output_type": "execute_result"
    }
   ],
   "source": [
    "L.append({ k: v for k,v in freq.items() if v >= minsup })\n",
    "L"
   ]
  },
  {
   "cell_type": "code",
   "execution_count": 19,
   "metadata": {},
   "outputs": [],
   "source": [
    "def my_apriori(transactions, minsup):\n",
    "    # step 1\n",
    "    freq = collections.defaultdict(lambda: 0)\n",
    "    for t in transactions:\n",
    "        for el in t:\n",
    "            freq[el] += 1\n",
    "    L = []\n",
    "    L.append({ (k,): v for k,v in freq.items() if v >= minsup })\n",
    "    while L[-1] != {}:\n",
    "        C = prune_values(L[-1], generate_candidates(list(L[-1].keys()))) # step 2\n",
    "        # step 3\n",
    "        freq = collections.defaultdict(lambda: 0)\n",
    "        for t in transactions:\n",
    "            transaction_set = set(t)\n",
    "            for c in C:\n",
    "                if set(c).issubset(transaction_set):\n",
    "                    freq[c] += 1\n",
    "        L.append({ k: v for k,v in freq.items() if v >= minsup }) # step 4\n",
    "    return L[:-1] # do not return last element, as we know it is {}"
   ]
  },
  {
   "cell_type": "code",
   "execution_count": 22,
   "metadata": {},
   "outputs": [
    {
     "data": {
      "text/plain": [
       "[{('a',): 7, ('b',): 8, ('c',): 7, ('d',): 5, ('e',): 3},\n",
       " {('a', 'b'): 5,\n",
       "  ('b', 'c'): 6,\n",
       "  ('b', 'd'): 3,\n",
       "  ('c', 'd'): 3,\n",
       "  ('a', 'c'): 4,\n",
       "  ('a', 'd'): 4,\n",
       "  ('a', 'e'): 2,\n",
       "  ('c', 'e'): 2,\n",
       "  ('d', 'e'): 2},\n",
       " {('b', 'c', 'd'): 2,\n",
       "  ('a', 'c', 'd'): 2,\n",
       "  ('a', 'd', 'e'): 2,\n",
       "  ('a', 'b', 'c'): 3,\n",
       "  ('a', 'b', 'd'): 2}]"
      ]
     },
     "execution_count": 22,
     "metadata": {},
     "output_type": "execute_result"
    }
   ],
   "source": [
    "my_apriori(transactions, 2)\n"
   ]
  },
  {
   "cell_type": "code",
   "execution_count": 24,
   "metadata": {},
   "outputs": [
    {
     "data": {
      "text/plain": [
       "5000"
      ]
     },
     "execution_count": 24,
     "metadata": {},
     "output_type": "execute_result"
    }
   ],
   "source": [
    "import json\n",
    "\n",
    "with open(\"modified_coco.json\") as f:\n",
    "    images = json.load(f)\n",
    "dataset = [ list(set(image[\"annotations\"])) for image in images ] # remove duplicates\n",
    "len(dataset)"
   ]
  },
  {
   "cell_type": "code",
   "execution_count": 29,
   "metadata": {},
   "outputs": [
    {
     "name": "stdout",
     "output_type": "stream",
     "text": [
      "2 [('car', 'stop sign'), ('bench', 'person'), ('bench', 'potted plant'), ('bench', 'chair'), ('bench', 'dining table'), ('person', 'potted plant'), ('chair', 'person'), ('dining table', 'person'), ('fire hydrant', 'person'), ('car', 'person')]\n",
      "3 [('bench', 'chair', 'person'), ('bench', 'dining table', 'person'), ('car', 'fire hydrant', 'person'), ('backpack', 'car', 'person'), ('bus', 'car', 'person'), ('bench', 'bicycle', 'person'), ('bench', 'person', 'umbrella'), ('bus', 'car', 'truck'), ('bus', 'car', 'traffic light'), ('car', 'traffic light', 'truck')]\n",
      "4 [('backpack', 'car', 'person', 'traffic light'), ('bus', 'car', 'person', 'traffic light'), ('bicycle', 'car', 'person', 'traffic light'), ('car', 'handbag', 'person', 'traffic light'), ('car', 'person', 'traffic light', 'truck'), ('baseball bat', 'baseball glove', 'bench', 'person')]\n"
     ]
    }
   ],
   "source": [
    "L = my_apriori(dataset, 0.02 * 5000)\n",
    "\n",
    "for k, L_k in enumerate(L[1:]):\n",
    "    print(k+2, list(L_k.keys())[:10])"
   ]
  },
  {
   "cell_type": "code",
   "execution_count": 30,
   "metadata": {},
   "outputs": [
    {
     "data": {
      "text/plain": [
       "288440"
      ]
     },
     "execution_count": 30,
     "metadata": {},
     "output_type": "execute_result"
    }
   ],
   "source": [
    "itemset = set(['baseball bat', 'baseball glove', 'bench', 'person'])\n",
    "with_itemset = [ image['image_id'] for image in images if itemset.issubset(image['annotations'])]\n",
    "with_itemset[15]"
   ]
  },
  {
   "cell_type": "code",
   "execution_count": 32,
   "metadata": {},
   "outputs": [],
   "source": [
    "import pandas as pd\n",
    "\n",
    "all_items_set = set()\n",
    "for items in dataset:\n",
    "    all_items_set.update(items)\n",
    "all_items = sorted(list(all_items_set))\n",
    "presence_matrix = [ [ int(item in image) for item in all_items ] for image in dataset ]\n",
    "df = pd.DataFrame(presence_matrix, columns=all_items_set)"
   ]
  },
  {
   "cell_type": "code",
   "execution_count": 34,
   "metadata": {},
   "outputs": [],
   "source": [
    "from mlxtend.frequent_patterns import fpgrowth, apriori\n",
    "\n",
    "fi_ap = apriori(df, 0.02)\n",
    "fi_fp = fpgrowth(df, 0.02)"
   ]
  },
  {
   "cell_type": "code",
   "execution_count": 35,
   "metadata": {},
   "outputs": [
    {
     "data": {
      "text/plain": [
       "True"
      ]
     },
     "execution_count": 35,
     "metadata": {},
     "output_type": "execute_result"
    }
   ],
   "source": [
    "tuples_ap = { tuple(row) for row in fi_ap.values }\n",
    "tuples_fp = { tuple(row) for row in fi_fp.values }\n",
    "tuples_ap == tuples_fp"
   ]
  },
  {
   "cell_type": "code",
   "execution_count": null,
   "metadata": {},
   "outputs": [],
   "source": []
  }
 ],
 "metadata": {
  "kernelspec": {
   "display_name": "Python 3",
   "language": "python",
   "name": "python3"
  },
  "language_info": {
   "codemirror_mode": {
    "name": "ipython",
    "version": 3
   },
   "file_extension": ".py",
   "mimetype": "text/x-python",
   "name": "python",
   "nbconvert_exporter": "python",
   "pygments_lexer": "ipython3",
   "version": "3.8.5"
  }
 },
 "nbformat": 4,
 "nbformat_minor": 4
}
